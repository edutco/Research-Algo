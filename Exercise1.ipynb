{
 "cells": [
  {
   "cell_type": "code",
   "execution_count": 1,
   "metadata": {},
   "outputs": [],
   "source": [
    "\n",
    "#Ex 1.1\n",
    "import inspect, itertools ,sys\n",
    "\n",
    "def safe_call(f,**args): #function and arguments\n",
    "    names=inspect.get_annotations(f) #arguments names and types\n",
    "    for name in names:\n",
    "        if not isinstance(args[name], names[name]): #compare actual type and annotation \n",
    "            raise Exception(\"unvalid operation\")        \n",
    "    return f(**args) #activate f on the given arguments\n",
    "\n",
    "\n",
    "  "
   ]
  },
  {
   "cell_type": "code",
   "execution_count": 11,
   "metadata": {},
   "outputs": [],
   "source": []
  },
  {
   "cell_type": "code",
   "execution_count": 13,
   "metadata": {},
   "outputs": [
    {
     "name": "stdout",
     "output_type": "stream",
     "text": [
      "exception caught\n",
      "exception caught\n",
      "exception caught\n",
      "exception caught\n",
      "exception caught\n",
      "exception caught\n",
      "exception caught\n",
      "exception caught\n",
      "exception caught\n"
     ]
    }
   ],
   "source": [
    "def f(x: int, y: float, z):\n",
    "    return x+y+z\n",
    "def h(x: int, y: int):\n",
    "    return x+y\n",
    "def g(st: str):\n",
    "    return st*3\n",
    "\n",
    "#Code examples\n",
    "\n",
    "(safe_call(f,x=80, y=0.9, z=7))\n",
    "try:\n",
    "     (safe_call(f,x=80, y=0, z=7))\n",
    "except:\n",
    "  print(\"exception caught\")\n",
    "(safe_call(f,x=80, y=0.9, z=7.52))\n",
    "try:\n",
    "     (safe_call(f,x=8.5, y=0.9, z=7))\n",
    "except:\n",
    "  print(\"exception caught\")\n",
    "\n",
    "\n",
    "(safe_call(h,x=80, y=9))\n",
    "try:\n",
    "     (safe_call(h,x=80, y=0.0))\n",
    "except:\n",
    "  print(\"exception caught\")\n",
    "(safe_call(h,x=45, y=9))\n",
    "try:\n",
    "     (safe_call(h,x=8.5, y=0.9))\n",
    "except:\n",
    "  print(\"exception caught\")  \n",
    "\n",
    "\n",
    "\n",
    "(safe_call(g,st=\"a\"))\n",
    "try:\n",
    "     (safe_call(g,st=4))\n",
    "except:\n",
    "  print(\"exception caught\")\n",
    "(safe_call(g,st=\"str \"))\n",
    "try:\n",
    "     (safe_call(g,st=7.9))\n",
    "except:\n",
    "  print(\"exception caught\")    \n",
    "\n",
    "\n",
    "#Tests\n",
    "\n",
    "assert (safe_call(f,x=80, y=0.9, z=7)== 87.9)\n",
    "assert (safe_call(f,x=80, y=0.9, z=7.52)==88.42)\n",
    "assert (safe_call(h,x=80, y=9)==89)\n",
    "assert (safe_call(h,x=45, y=9)==54)\n",
    "assert (safe_call(g,st=\"a\")==\"aaa\")\n",
    "assert (safe_call(g,st=\"str \")==\"str str str \")\n",
    "try:\n",
    "     (safe_call(f,x=80, y=0, z=7))\n",
    "     print(\"error\")\n",
    "except:\n",
    "     print(\"exception caught\")\n",
    "try:\n",
    "     (safe_call(h,x=80, y=0.0))\n",
    "     print(\"error\")\n",
    "except:\n",
    "  print(\"exception caught\")\n",
    "try:\n",
    "     (safe_call(g,st=4))\n",
    "     print(\"error\")\n",
    "except:\n",
    "  print(\"exception caught\")\n",
    "\n",
    "\n"
   ]
  },
  {
   "cell_type": "code",
   "execution_count": 21,
   "metadata": {},
   "outputs": [],
   "source": [
    "#Ex 1.2\n",
    "import collections, copy\n",
    "\n",
    "def print_sorted(x):\n",
    "    sortedx=copy.deepcopy(x)\n",
    "    if isinstance(sortedx, dict): #dictionary sort\n",
    "        for key in sortedx:\n",
    "            sortedx[key]=print_sorted(sortedx[key]) #sort every value\n",
    "        dictionary_items = sortedx.items()\n",
    "        sortedx = sorted(dictionary_items) #sort bu key the values order\n",
    "        return sortedx\n",
    "    elif isinstance(sortedx, list) or isinstance(sortedx, tuple) or isinstance(sortedx, set): #all other options\n",
    "        for obj in sortedx:\n",
    "            obj=print_sorted(obj)\n",
    "        return sorted(sortedx)\n",
    "    else: #base case\n",
    "        return sortedx    \n",
    "\n"
   ]
  },
  {
   "cell_type": "code",
   "execution_count": 22,
   "metadata": {},
   "outputs": [
    {
     "name": "stdout",
     "output_type": "stream",
     "text": [
      "sort\n",
      " [('a', 5), ('b', [1, 2, 3, 4]), ('c', 6)]\n",
      "original\n",
      " {'a': 5, 'c': 6, 'b': [1, 3, 2, 4]}\n",
      "sort\n",
      " [('a', 5), ('b', [1, 2, 3, 4]), ('c', 6), ('f', [(1, 2), (3, 4), (5, [6, 7, 9])])]\n",
      "original\n",
      " {'a': 5, 'c': 6, 'b': [1, 3, 2, 4], 'f': {1: 2, 3: 4, 5: [9, 7, 6]}}\n",
      "sort\n",
      " [('a', 5), ('b', [1, 2, 3, 4]), ('c', 6), ('f', [(1, 2), (2, [1, 2, 5, 8, 23, 78]), (3, 4), (5, [6, 7, 9])])]\n",
      "original\n",
      " {'a': 5, 'c': 6, 'b': [1, 3, 2, 4], 'f': {1: 2, 3: 4, 5: [9, 7, 6], 2: [5, 8, 1, 78, 23, 2]}}\n"
     ]
    }
   ],
   "source": [
    "#Code examples\n",
    "x = {\"a\": 5, \"c\": 6, \"b\": [1, 3, 2, 4]}    \n",
    "print(\"sort\\n\",print_sorted(x))\n",
    "print(\"original\\n\",x)\n",
    "\n",
    "x = {\"a\": 5, \"c\": 6, \"b\": [1, 3, 2, 4], \"f\":{1:2, 3:4, 5:[9,7,6]}}    \n",
    "print(\"sort\\n\",print_sorted(x))\n",
    "print(\"original\\n\",x)\n",
    "\n",
    "x = {\"a\": 5, \"c\": 6, \"b\": [1, 3, 2, 4], \"f\":{1:2, 3:4, 5:[9,7,6], 2:[5,8,1,78,23,2]}}    \n",
    "print(\"sort\\n\",print_sorted(x))\n",
    "print(\"original\\n\",x)\n",
    "\n",
    "#Tests\n",
    "\n",
    "x = {\"a\": 5, \"c\": 6, \"b\": [1, 3, 2, 4]}    \n",
    "assert(print_sorted(x)== [('a', 5), ('b', [1, 2, 3, 4]), ('c', 6)])\n",
    "x = {\"a\": 5, \"c\": 6, \"b\": [1, 3, 2, 4], \"f\":{1:2, 3:4, 5:[9,7,6]}}    \n",
    "assert( print_sorted(x)==[('a', 5), ('b', [1, 2, 3, 4]), ('c', 6), ('f', [(1, 2), (3, 4), (5, [6, 7, 9])])])\n",
    "x = {\"a\": 5, \"c\": 6, \"b\": [1, 3, 2, 4], \"f\":{1:2, 3:4, 5:[9,7,6], 2:[5,8,1,78,23,2]}}    \n",
    "assert( print_sorted(x)==[('a', 5), ('b', [1, 2, 3, 4]), ('c', 6), ('f', [(1, 2), (2, [1, 2, 5, 8, 23, 78]), (3, 4), (5, [6, 7, 9])])])\n",
    "\n"
   ]
  },
  {
   "cell_type": "code",
   "execution_count": 19,
   "metadata": {},
   "outputs": [],
   "source": [
    "#Ex 1.3\n",
    "from scipy import misc\n",
    "def find_root(l, s, e): \n",
    "    xnext=s\n",
    "    xprev=e\n",
    "    while abs(xnext-xprev)>0.001: #loop until convergence\n",
    "        xprev=xnext\n",
    "        der= misc.derivative(l,xprev)\n",
    "        xnext=xprev-l(xprev)/der\n",
    "    return xnext    \n",
    "\n"
   ]
  },
  {
   "cell_type": "code",
   "execution_count": 20,
   "metadata": {},
   "outputs": [
    {
     "name": "stdout",
     "output_type": "stream",
     "text": [
      "2.0000000929222947\n",
      "0.9999999997671691\n",
      "2.0\n",
      "-1.0000031764135455\n",
      "-7.000000601095627\n",
      "4.00000069113563\n"
     ]
    }
   ],
   "source": [
    "#Code examples\n",
    "y = lambda x: x**2-4\n",
    "z = lambda x: x**2-3*x+2\n",
    "w = lambda x: x**3+4*x**2-25*x-28\n",
    "\n",
    "print (find_root(y, 1, 3))\n",
    "print (find_root(z, 0, 2))\n",
    "print (find_root(z, 2, 4))\n",
    "print (find_root(w, -2, 0))\n",
    "print (find_root(w, -9, -6))\n",
    "print (find_root(w, 3, 5))\n",
    "\n",
    "#Tests\n",
    "assert(abs(find_root(y, 1, 3)-2)<0.001)\n",
    "assert(abs(find_root(z, 0, 2)-1)<0.001)\n",
    "assert(abs(find_root(z, 2, 4)-2)<0.001)\n",
    "assert(abs(find_root(w, -2, 0)+1)<0.001)\n",
    "assert(abs(find_root(w, -9, -6)+7)<0.001)\n",
    "assert(abs(find_root(w, 3, 5)-4)<0.001)\n"
   ]
  }
 ],
 "metadata": {
  "interpreter": {
   "hash": "756ac128d1f794b8ce6e5dc14ebbffe711903e1c0e9b085ce3f30fa9799b17c9"
  },
  "kernelspec": {
   "display_name": "Python 3.10.2 64-bit (system)",
   "language": "python",
   "name": "python3"
  },
  "language_info": {
   "codemirror_mode": {
    "name": "ipython",
    "version": 3
   },
   "file_extension": ".py",
   "mimetype": "text/x-python",
   "name": "python",
   "nbconvert_exporter": "python",
   "pygments_lexer": "ipython3",
   "version": "3.10.2"
  },
  "orig_nbformat": 4
 },
 "nbformat": 4,
 "nbformat_minor": 2
}
