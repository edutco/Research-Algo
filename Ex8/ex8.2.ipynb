{
 "cells": [
  {
   "cell_type": "code",
   "execution_count": 51,
   "metadata": {},
   "outputs": [],
   "source": [
    "import gspread\n",
    "account = gspread.service_account(\"credentials.json\")\n",
    "# Open spreadsheet by name:\n",
    "spreadsheet = account.open(\"GSfile\")\n",
    "# Open sheet by name:\n",
    "sheet1 = spreadsheet.worksheet(\"Input\")"
   ]
  },
  {
   "cell_type": "code",
   "execution_count": 52,
   "metadata": {},
   "outputs": [
    {
     "name": "stdout",
     "output_type": "stream",
     "text": [
      "Read all values:\n",
      "[['BinsKeepingContents', '3', '', ''], ['100', '100', '10', '50'], ['0.1', '', '', ''], ['lambda x:x**2', '', '', '']]\n"
     ]
    }
   ],
   "source": [
    "from AA import *\n",
    "def readInputFromGS():\n",
    "    print(\"Read all values:\")\n",
    "    input=sheet1.get_all_values()\n",
    "    print(input)\n",
    "    #bins definition:\n",
    "    if input[0][0]=='BinsKeepingContents':\n",
    "        content=True\n",
    "    elif input[0][0]=='BinsKeepingSums':\n",
    "        content=False \n",
    "    else:\n",
    "        print(\"ERROR\")\n",
    "        return 1;   \n",
    "    binsNum=int(input[0][1])\n",
    "    #jobs definition\n",
    "    jobs=[]\n",
    "    for j in input[1]:\n",
    "        jobs.append(int(j))\n",
    "    #epsilon definition\n",
    "    epsilon=float(input[2][0])\n",
    "    #f() definition\n",
    "    f= eval(input[3][0])\n",
    "    if content:\n",
    "        ans=mainAlgorithm(BinsKeepingContents(binsNum),jobs,epsilon, f)\n",
    "    else:    \n",
    "        ans=mainAlgorithm(BinsKeepingSums(binsNum),jobs,epsilon, f)\n",
    "    sheet2 = spreadsheet.worksheet(\"Output\")\n",
    "    index=1\n",
    "    for a  in ans.bins:\n",
    "        sheet2.update_cell(1, index, str(a))\n",
    "        index+=1\n",
    "readInputFromGS()    \n",
    "\n"
   ]
  }
 ],
 "metadata": {
  "interpreter": {
   "hash": "6bdecd6aa1c680c68931b2677bf91b5cac8845acf16b83c9971b4bfff4fcbeef"
  },
  "kernelspec": {
   "display_name": "Python 3.10.2 64-bit (system)",
   "language": "python",
   "name": "python3"
  },
  "language_info": {
   "codemirror_mode": {
    "name": "ipython",
    "version": 3
   },
   "file_extension": ".py",
   "mimetype": "text/x-python",
   "name": "python",
   "nbconvert_exporter": "python",
   "pygments_lexer": "ipython3",
   "version": "3.10.2"
  },
  "orig_nbformat": 4
 },
 "nbformat": 4,
 "nbformat_minor": 2
}
