{
 "cells": [
  {
   "cell_type": "code",
   "execution_count": 147,
   "metadata": {},
   "outputs": [],
   "source": [
    "#this function gets a module file name creates an html file with detailes about this module\n",
    "def doc_to_html(module_file_name, output_file_name):\n",
    "    import importlib\n",
    "    name=module_file_name[0:-3]\n",
    "    mod=importlib.import_module(name)\n",
    "    with open(output_file_name,\"w\") as f:\n",
    "        f.write(\"<html>\\n<head>\\n<title>\\nDoc\\n</title>\")\n",
    "        f.write(\"\\n</head> <body><h1>Module \"+module_file_name+\" :</h1>\")\n",
    "        f.write(\"\\n\"+mod.__doc__)\n",
    "        for x in mod.__dir__():\n",
    "            if \"__\" not in x: #every non inherited function\n",
    "                string_doc=\"mod.\"+x+\".__doc__\"\n",
    "                string=\"mod.\"+x+\".__annotations__\"\n",
    "                f.write(\"\\n<h1> Function \"+str(x)+\" </h1>\")\n",
    "                f.write(\"\\n<h2> Documantation: \"+eval(string_doc)+\" </h2>\")\n",
    "                f.write(\"\\n<h3> Annotations: \"+str(string)+\" </h3>\")\n",
    "doc_to_html(\"myfile.py\", \"output.html\")            "
   ]
  },
  {
   "cell_type": "code",
   "execution_count": 155,
   "metadata": {},
   "outputs": [
    {
     "name": "stdout",
     "output_type": "stream",
     "text": [
      "4\n",
      "I already told you that the answer is 4 !\n",
      "I already told you that the answer is 4 !\n",
      "9\n",
      "I already told you that the answer is 9 !\n",
      "I already told you that the answer is 9 !\n",
      "3\n",
      "I already told you that the answer is 3 !\n",
      "2\n",
      "I already told you that the answer is 2 !\n"
     ]
    }
   ],
   "source": [
    "#this lastcall function remembers the last time it was calles and if you call it again with the same input\n",
    "#is returns the old answer instead of calculation again\n",
    "oldinput=None\n",
    "oldanswer=None\n",
    "def lastcall(func):\n",
    "    def wrapper(x):\n",
    "        global oldinput\n",
    "        global oldanswer\n",
    "        if oldinput is not None and x==oldinput: #not the first call to this function\n",
    "            print(\"I already told you that the answer is\", oldanswer,\"!\")\n",
    "        else:\n",
    "            return_val = func(x)\n",
    "            oldinput=x\n",
    "            oldanswer=return_val\n",
    "            print(return_val)\n",
    "            return return_val       \n",
    "    return wrapper\n",
    "@lastcall\n",
    "def f(x: int):\n",
    "    return x**2\n",
    "\n",
    "@lastcall\n",
    "def g(x: int):\n",
    "    return x+1\n",
    "\n",
    "f(2) # returns 4\n",
    "f(2) # prints “I already told you that the answer is 4!”\n",
    "f(2) # prints “I already told you that the answer is 4!”\n",
    "f(3) # returns 9\n",
    "f(3) # prints “I already told you that the answer is 9!\n",
    "\n",
    "g(1) #returns 2\n",
    "g(2) #returns 3\n",
    "g(2) #prints “I already told you that the answer is 3!”\n",
    "g(1) #returns 2\n",
    "g(1) #prints “I already told you that the answer is 2!”\n"
   ]
  },
  {
   "cell_type": "code",
   "execution_count": 154,
   "metadata": {},
   "outputs": [],
   "source": [
    "#List inherite from list and overrides the [] operator \n",
    "import collections ,copy\n",
    "class List(list):\n",
    "    def __getitem__(self, key): #get item by list[x1,x2,...,xn]\n",
    "        if isinstance(key,int): #base case\n",
    "            return super().__getitem__(key)\n",
    "        else:\n",
    "            templist=self\n",
    "            for i in key: #loop into the right position\n",
    "                templist=templist[i]\n",
    "            return templist\n",
    "    def __setitem__(self, key,newval): #set item by list[x1,x2,...,xn]\n",
    "        if isinstance(key,int):\n",
    "            super().__setitem__(key,newval)\n",
    "        else:\n",
    "            templist=self\n",
    "            prev=self\n",
    "            for i in key: #loop into the right position\n",
    "               prev=templist\n",
    "               templist=templist[i]\n",
    "            prev[i]=newval   #change the relevant value\n",
    "            \n",
    "            \n",
    "mylist=List([3,1,[[0,17],2]])    \n",
    "assert (mylist[2,0,1]==17)\n",
    "mylist = List([\n",
    "[[1,2,3,33],[4,5,6,66]],\n",
    "[[7,8,9,99],[10,11,12,122]],\n",
    "[[13,14,15,155],[16,17,18,188]],])\n",
    "assert (mylist[0,1,3]==66)\n",
    "assert(mylist==[[[1, 2, 3, 33], [4, 5, 6, 66]], [[7, 8, 9, 99], [10, 11, 12, 122]], [[13, 14, 15, 155], [16, 17, 18, 188]]])\n",
    "mylist[0,1,3]=[9]\n",
    "assert(mylist==[[[1, 2, 3, 33], [4, 5, 6, [9]]], [[7, 8, 9, 99], [10, 11, 12, 122]], [[13, 14, 15, 155], [16, 17, 18, 188]]])\n",
    "mylist[0,1]=[0]\n",
    "assert(mylist==[[[1, 2, 3, 33], [0]], [[7, 8, 9, 99], [10, 11, 12, 122]], [[13, 14, 15, 155], [16, 17, 18, 188]]])"
   ]
  }
 ],
 "metadata": {
  "interpreter": {
   "hash": "756ac128d1f794b8ce6e5dc14ebbffe711903e1c0e9b085ce3f30fa9799b17c9"
  },
  "kernelspec": {
   "display_name": "Python 3.10.2 64-bit (system)",
   "language": "python",
   "name": "python3"
  },
  "language_info": {
   "codemirror_mode": {
    "name": "ipython",
    "version": 3
   },
   "file_extension": ".py",
   "mimetype": "text/x-python",
   "name": "python",
   "nbconvert_exporter": "python",
   "pygments_lexer": "ipython3",
   "version": "3.10.2"
  },
  "orig_nbformat": 4
 },
 "nbformat": 4,
 "nbformat_minor": 2
}
