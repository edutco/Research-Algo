{
 "cells": [
  {
   "cell_type": "code",
   "execution_count": 5,
   "metadata": {},
   "outputs": [],
   "source": [
    "import pandas as pd\n",
    "import numpy as np"
   ]
  },
  {
   "cell_type": "code",
   "execution_count": 6,
   "metadata": {},
   "outputs": [],
   "source": [
    "df = pd.read_csv('national-budget.csv', encoding = 'utf-8')"
   ]
  },
  {
   "cell_type": "code",
   "execution_count": 7,
   "metadata": {},
   "outputs": [],
   "source": [
    "#This function receives a year and returns the total education budget for that year\n",
    "def education_budget(year):\n",
    "    Education = df[(df['שם רמה 2'] == 'חינוך')]\n",
    "    specificYear = Education[(Education['שנה'] == year)]\n",
    "    budgetDF = specificYear[(specificYear['הוצאה נטו']<0)]\n",
    "    budget = budgetDF['הוצאה נטו'].sum()\n",
    "    #specificYear = specificYear['הוצאה/הכנסה']\n",
    "    return budget"
   ]
  },
  {
   "cell_type": "markdown",
   "metadata": {},
   "source": [
    "# Q1"
   ]
  },
  {
   "cell_type": "code",
   "execution_count": 8,
   "metadata": {},
   "outputs": [
    {
     "name": "stdout",
     "output_type": "stream",
     "text": [
      "the eductaion budget in 1997 was 2106361 shekels\n",
      "the eductaion budget in 2005 was 3031458 shekels\n",
      "the eductaion budget in 2014 was 4017882 shekels\n",
      "the eductaion budget in 2021 was 300730 shekels\n"
     ]
    }
   ],
   "source": [
    "year = 1997\n",
    "print(\"the eductaion budget in\", year, \"was\", int(-1*education_budget(year)), \"shekels\")\n",
    "year = 2005\n",
    "print(\"the eductaion budget in\", year, \"was\", int(-1*education_budget(year)), \"shekels\")\n",
    "year = 2014\n",
    "print(\"the eductaion budget in\", year, \"was\", int(-1*education_budget(year)), \"shekels\")\n",
    "year = 2021\n",
    "print(\"the eductaion budget in\", year, \"was\", int(-1*education_budget(year)), \"shekels\")"
   ]
  },
  {
   "cell_type": "markdown",
   "metadata": {},
   "source": [
    "# Q2"
   ]
  },
  {
   "cell_type": "code",
   "execution_count": 9,
   "metadata": {},
   "outputs": [],
   "source": [
    "#This function receives a year and returns the percentage of the security budget relative to the general budget in that year\n",
    "def security_budget_ratio(year):\n",
    "    specificYear = df[(df['שנה'] == year)]\n",
    "    security = specificYear[(specificYear['שם רמה 2'] == 'בטחון')]\n",
    "    security = security[security['הוצאה נטו'] < 0]\n",
    "    security_budget = float(security['הוצאה נטו'].sum())\n",
    "    #print(security_budget)\n",
    "    specificYear = specificYear[specificYear['הוצאה נטו'] < 0]\n",
    "    total_budget = float(specificYear['הוצאה נטו'].sum())\n",
    "    #print(total_budget)\n",
    "    return (security_budget/total_budget)*100"
   ]
  },
  {
   "cell_type": "code",
   "execution_count": 18,
   "metadata": {},
   "outputs": [
    {
     "name": "stdout",
     "output_type": "stream",
     "text": [
      "the security budget in 2017 was 17 % of the total budget\n",
      "the security budget in 2000 was 5 % of the total budget\n",
      "the security budget in 2005 was 7 % of the total budget\n",
      "the security budget in 2020 was 23 % of the total budget\n"
     ]
    }
   ],
   "source": [
    "year = 2017\n",
    "print(\"the security budget in\", year, \"was\", int(security_budget_ratio(year)), \"% of the total budget\")\n",
    "year = 2000\n",
    "print(\"the security budget in\", year, \"was\", int(security_budget_ratio(year)), \"% of the total budget\")\n",
    "year = 2005\n",
    "print(\"the security budget in\", year, \"was\", int(security_budget_ratio(year)), \"% of the total budget\")\n",
    "year = 2020\n",
    "print(\"the security budget in\", year, \"was\", int(security_budget_ratio(year)), \"% of the total budget\")"
   ]
  },
  {
   "cell_type": "markdown",
   "metadata": {},
   "source": [
    "# Q3"
   ]
  },
  {
   "cell_type": "code",
   "execution_count": 15,
   "metadata": {},
   "outputs": [
    {
     "name": "stdout",
     "output_type": "stream",
     "text": [
      "2019\n",
      "2019\n",
      "1997\n"
     ]
    }
   ],
   "source": [
    "#this function gets an office name and return the year in which this office got the largest budget\n",
    "def largest_budget_year(office):\n",
    "    officeTable = df[(df['שם רמה 2'] == office)]\n",
    "    years = df[\"שנה\"].unique()\n",
    "    maxBadget = 0\n",
    "    maxYear = 1997\n",
    "    for year in years:\n",
    "        yearTable = officeTable[(officeTable['שנה'] == year)]\n",
    "        budget = yearTable['הוצאה נטו'].sum()\n",
    "        if budget>maxBadget:\n",
    "            maxBadget=budget\n",
    "            maxYear=year\n",
    "    return maxYear    \n",
    "print(largest_budget_year('בריאות') ) \n",
    "print(largest_budget_year('חינוך')   )\n",
    "print(largest_budget_year('דת')       )"
   ]
  },
  {
   "cell_type": "markdown",
   "metadata": {},
   "source": [
    "# Q4"
   ]
  },
  {
   "cell_type": "code",
   "execution_count": 12,
   "metadata": {},
   "outputs": [
    {
     "name": "stdout",
     "output_type": "stream",
     "text": [
      "חינוך had bigger budget than בטחון during the years [1997]\n",
      "בטחון had bigger budget than חינוך during the years [1998, 1999, 2000, 2001, 2002, 2003, 2004, 2005, 2006, 2007, 2008, 2009, 2010, 2011, 2012, 2013, 2014, 2015, 2016, 2017, 2018, 2019, 2020, 2021, 2022]\n",
      "\n",
      "בטחון had bigger budget than חינוך during the years [1998, 1999, 2000, 2001, 2002, 2003, 2004, 2005, 2006, 2007, 2008, 2009, 2010, 2011, 2012, 2013, 2014, 2015, 2016, 2017, 2018, 2019, 2020, 2021, 2022]\n",
      "חינוך had bigger budget than בטחון during the years [1997]\n",
      "\n",
      "בריאות had bigger budget than בטחון during the years [1997, 1998, 1999, 2000, 2007, 2008, 2009, 2010, 2011, 2012, 2013, 2014, 2015, 2016, 2019, 2021, 2022]\n",
      "בטחון had bigger budget than בריאות during the years [2001, 2002, 2003, 2004, 2005, 2006, 2017, 2018, 2020]\n"
     ]
    }
   ],
   "source": [
    "#This function gets names of two offices and returns the list of years in which one office received a larger budget than the other\n",
    "def yearComperator4offices(office1, office2):\n",
    "    office1Table = df[(df['שם רמה 2'] == office1)]\n",
    "    office2Table = df[(df['שם רמה 2'] == office2)]\n",
    "    years = df[\"שנה\"].unique()\n",
    "    years4Office1=[]\n",
    "    years4Office2=[]\n",
    "    equalYears=[]\n",
    "    for year in years:\n",
    "        yearTableOffice1 = office1Table[(office1Table['שנה'] == year)]\n",
    "        yearTableOffice2 = office2Table[(office2Table['שנה'] == year)]\n",
    "        yearTableOffice1 = yearTableOffice1[yearTableOffice1['הוצאה נטו'] < 0]\n",
    "        yearTableOffice2 = yearTableOffice2[yearTableOffice2['הוצאה נטו'] < 0]\n",
    "        budgetOffice1 = -1*yearTableOffice1['הוצאה נטו'].sum()\n",
    "        budgetOffice2 = -1*yearTableOffice2['הוצאה נטו'].sum()\n",
    "        if budgetOffice1>budgetOffice2:\n",
    "            years4Office1.append(year)\n",
    "        elif budgetOffice1<budgetOffice2:\n",
    "            years4Office2.append(year)\n",
    "        else:\n",
    "            equalYears.append(year)   \n",
    "    if len(years4Office1)>0 :       \n",
    "        print(office1 , \"had bigger budget than\", office2 , \"during the years\", years4Office1 )    \n",
    "    if len(years4Office2)>0 :       \n",
    "        print(office2 , \"had bigger budget than\", office1 , \"during the years\", years4Office2 )\n",
    "    if len(equalYears)>0 :       \n",
    "        print(office1 , \"and\", office2 , \"had the same budget during the years\", equalYears )  \n",
    "yearComperator4offices('חינוך','בטחון')\n",
    "print()\n",
    "yearComperator4offices('בטחון','חינוך')\n",
    "print()\n",
    "yearComperator4offices('בריאות','בטחון')"
   ]
  }
 ],
 "metadata": {
  "interpreter": {
   "hash": "6bdecd6aa1c680c68931b2677bf91b5cac8845acf16b83c9971b4bfff4fcbeef"
  },
  "kernelspec": {
   "display_name": "Python 3.10.2 64-bit (system)",
   "language": "python",
   "name": "python3"
  },
  "language_info": {
   "codemirror_mode": {
    "name": "ipython",
    "version": 3
   },
   "file_extension": ".py",
   "mimetype": "text/x-python",
   "name": "python",
   "nbconvert_exporter": "python",
   "pygments_lexer": "ipython3",
   "version": "3.10.2"
  },
  "orig_nbformat": 4
 },
 "nbformat": 4,
 "nbformat_minor": 2
}
