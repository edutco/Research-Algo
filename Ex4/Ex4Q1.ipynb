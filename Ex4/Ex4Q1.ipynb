{
 "cells": [
  {
   "cell_type": "code",
   "execution_count": 1,
   "metadata": {},
   "outputs": [],
   "source": [
    " #this function gets a set and int and returns the subset corresponding \n",
    " # to the binary representation of the int it was given\n",
    "def subSetByInt(count,mySet):\n",
    "        set_to_return=[]\n",
    "        string=bin(count)[2:].zfill(len(mySet)) #convert the int to binary string of length (len(mySet))\n",
    "        for i in range(len(string)):\n",
    "            if string[i]=='1':\n",
    "                set_to_return.append(mySet[i])   #add the number only if its corresponding index is 1\n",
    "        return set_to_return\n",
    "\n",
    "#this class defines an iterator that gets a set of numbers and a bound\n",
    "#and go over all the subsets that their sum is bounded by the bound\n",
    "class bounded_subset:\n",
    "    def __init__(self, mySet , bound): #init the iterator \n",
    "        self.state = []\n",
    "        self.end = mySet\n",
    "        self.bound=bound\n",
    "        self.count = 0 #the int that represent the current state in binary\n",
    "\n",
    "    def __iter__(self):\n",
    "        return self\n",
    "\n",
    "    def __next__(self):\n",
    "        if self.count >=pow(2,len(self.end)): # we passed the last possible group\n",
    "            raise StopIteration\n",
    "        res = self.state\n",
    "        self.count+=1\n",
    "        while self.count<pow(2,len(self.end)):\n",
    "            self.state=subSetByInt(self.count,self.end)    #get the next group\n",
    "            if sum(self.state)>self.bound: #if the next group is larger than the bounde we check the next group\n",
    "                self.count+=1\n",
    "            else:\n",
    "                break #if the next group is bounded it becomes out \"next\" \n",
    "        return res\n",
    "\n",
    "    \n"
   ]
  },
  {
   "cell_type": "code",
   "execution_count": 2,
   "metadata": {},
   "outputs": [
    {
     "name": "stdout",
     "output_type": "stream",
     "text": [
      "[] [3] [2] [2, 3] [1] [1, 3] [1, 2] [1, 2, 3] \n",
      "[] \n",
      "[] [2] [1] \n",
      "[] [26] [74] [74, 26] [5] [5, 26] [5, 74] [2] [2, 26] [2, 74] [2, 5] [2, 5, 26] [2, 5, 74] \n",
      "[] [6] [2] [2, 6] [2] [2, 6] [2, 2] \n",
      "[] [4] "
     ]
    }
   ],
   "source": [
    "#Q1 tests\n",
    "\n",
    "#edge cases:\n",
    "for i in bounded_subset([1,2,3],6):  \n",
    "    print(i , end = ' ')\n",
    "print()\n",
    "for i in bounded_subset([2,2,6],1):  \n",
    "    print(i , end = ' ')\n",
    "print()\n",
    "#other cases    \n",
    "for i in bounded_subset([1,2,3],2):  \n",
    "    print(i , end = ' ')\n",
    "print()    \n",
    "for i in bounded_subset([2,5,74,26],100):  \n",
    "    print(i , end = ' ')\n",
    "print()\n",
    "for i in bounded_subset([2,2,6],8):  \n",
    "    print(i , end = ' ')    \n",
    "print()\n",
    "for i in bounded_subset([21,12,4,6],5):  \n",
    "    print(i , end = ' ')"
   ]
  }
 ],
 "metadata": {
  "interpreter": {
   "hash": "756ac128d1f794b8ce6e5dc14ebbffe711903e1c0e9b085ce3f30fa9799b17c9"
  },
  "kernelspec": {
   "display_name": "Python 3.10.2 64-bit (system)",
   "language": "python",
   "name": "python3"
  },
  "language_info": {
   "codemirror_mode": {
    "name": "ipython",
    "version": 3
   },
   "file_extension": ".py",
   "mimetype": "text/x-python",
   "name": "python",
   "nbconvert_exporter": "python",
   "pygments_lexer": "ipython3",
   "version": "3.10.2"
  },
  "orig_nbformat": 4
 },
 "nbformat": 4,
 "nbformat_minor": 2
}
